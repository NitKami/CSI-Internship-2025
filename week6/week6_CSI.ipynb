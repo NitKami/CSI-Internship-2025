{
 "cells": [
  {
   "cell_type": "markdown",
   "id": "aabb05bc",
   "metadata": {},
   "source": [
    "# Week 6 – Model Evaluation and Hyperparameter Tuning (Wine Dataset)"
   ]
  },
  {
   "cell_type": "code",
   "execution_count": 1,
   "id": "4ad19c94",
   "metadata": {},
   "outputs": [],
   "source": [
    "# 1. Import libraries\n",
    "import pandas as pd\n",
    "import numpy as np\n",
    "from sklearn import datasets\n",
    "from sklearn.model_selection import train_test_split, GridSearchCV, RandomizedSearchCV\n",
    "from sklearn.preprocessing import StandardScaler\n",
    "from sklearn.metrics import accuracy_score, precision_score, recall_score, f1_score, classification_report\n",
    "from sklearn.pipeline import Pipeline\n",
    "from sklearn.svm import SVC\n",
    "from sklearn.ensemble import RandomForestClassifier\n",
    "from sklearn.linear_model import LogisticRegression"
   ]
  },
  {
   "cell_type": "code",
   "execution_count": 2,
   "id": "72335354",
   "metadata": {},
   "outputs": [],
   "source": [
    "# 2. Load Wine dataset\n",
    "wine = datasets.load_wine()\n",
    "X = wine.data\n",
    "y = wine.target"
   ]
  },
  {
   "cell_type": "code",
   "execution_count": 3,
   "id": "aad0e15a",
   "metadata": {},
   "outputs": [],
   "source": [
    "# 3. Train-test split\n",
    "X_train, X_test, y_train, y_test = train_test_split(X, y, test_size=0.2, random_state=42)"
   ]
  },
  {
   "cell_type": "code",
   "execution_count": 4,
   "id": "8703cc89",
   "metadata": {},
   "outputs": [],
   "source": [
    "# 4. Standardize features\n",
    "scaler = StandardScaler()\n",
    "X_train_scaled = scaler.fit_transform(X_train)\n",
    "X_test_scaled = scaler.transform(X_test)\n"
   ]
  },
  {
   "cell_type": "code",
   "execution_count": 5,
   "id": "66c74d65",
   "metadata": {},
   "outputs": [],
   "source": [
    "# 5. Train a simple SVM classifier\n",
    "svm = SVC(kernel='linear', random_state=42)\n",
    "svm.fit(X_train_scaled, y_train)\n",
    "y_pred = svm.predict(X_test_scaled)"
   ]
  },
  {
   "cell_type": "code",
   "execution_count": 6,
   "id": "d1ca35f8",
   "metadata": {},
   "outputs": [
    {
     "name": "stdout",
     "output_type": "stream",
     "text": [
      "=== Simple SVM Evaluation ===\n",
      "Accuracy: 0.9722222222222222\n",
      "Precision (macro): 0.9629629629629629\n",
      "Recall (macro): 0.9761904761904763\n",
      "F1-score (macro): 0.9680464778503994\n",
      "\n",
      "Classification Report:\n",
      "               precision    recall  f1-score   support\n",
      "\n",
      "           0       1.00      1.00      1.00        14\n",
      "           1       1.00      0.93      0.96        14\n",
      "           2       0.89      1.00      0.94         8\n",
      "\n",
      "    accuracy                           0.97        36\n",
      "   macro avg       0.96      0.98      0.97        36\n",
      "weighted avg       0.98      0.97      0.97        36\n",
      "\n"
     ]
    }
   ],
   "source": [
    "# 6. Evaluate SVM model\n",
    "print(\"=== Simple SVM Evaluation ===\")\n",
    "print(\"Accuracy:\", accuracy_score(y_test, y_pred))\n",
    "print(\"Precision (macro):\", precision_score(y_test, y_pred, average='macro'))\n",
    "print(\"Recall (macro):\", recall_score(y_test, y_pred, average='macro'))\n",
    "print(\"F1-score (macro):\", f1_score(y_test, y_pred, average='macro'))\n",
    "print(\"\\nClassification Report:\\n\", classification_report(y_test, y_pred))"
   ]
  },
  {
   "cell_type": "code",
   "execution_count": 7,
   "id": "3e03957d",
   "metadata": {},
   "outputs": [
    {
     "name": "stdout",
     "output_type": "stream",
     "text": [
      "=== Best SVM Parameters (GridSearchCV) ===\n",
      "{'C': 10, 'gamma': 'scale', 'kernel': 'rbf'}\n",
      "Best CV Accuracy: 0.9789\n"
     ]
    }
   ],
   "source": [
    "# 7. GridSearchCV for SVM hyperparameter tuning\n",
    "param_grid = {\n",
    "    'C': [0.1, 1, 10, 100],\n",
    "    'kernel': ['linear', 'rbf', 'poly'],\n",
    "    'gamma': ['scale', 'auto']\n",
    "}\n",
    "\n",
    "grid = GridSearchCV(SVC(), param_grid, cv=3, scoring='accuracy')\n",
    "grid.fit(X_train_scaled, y_train)\n",
    "\n",
    "print(\"=== Best SVM Parameters (GridSearchCV) ===\")\n",
    "print(grid.best_params_)\n",
    "print(f\"Best CV Accuracy: {grid.best_score_:.4f}\")"
   ]
  },
  {
   "cell_type": "code",
   "execution_count": 8,
   "id": "31afb276",
   "metadata": {},
   "outputs": [
    {
     "name": "stdout",
     "output_type": "stream",
     "text": [
      "\n",
      "=== Best Random Forest Parameters (RandomizedSearchCV) ===\n",
      "{'n_estimators': 100, 'min_samples_split': 10, 'max_depth': 5}\n",
      "Best CV Accuracy: 0.9858\n"
     ]
    }
   ],
   "source": [
    "# 8. RandomizedSearchCV for Random Forest hyperparameter tuning\n",
    "param_rf = {\n",
    "    'n_estimators': [50, 100, 200],\n",
    "    'max_depth': [None, 5, 10, 20],\n",
    "    'min_samples_split': [2, 5, 10]\n",
    "}\n",
    "\n",
    "random_rf = RandomizedSearchCV(RandomForestClassifier(random_state=42), param_rf, n_iter=5, cv=3, scoring='accuracy', random_state=42)\n",
    "random_rf.fit(X_train, y_train)\n",
    "\n",
    "print(\"\\n=== Best Random Forest Parameters (RandomizedSearchCV) ===\")\n",
    "print(random_rf.best_params_)\n",
    "print(f\"Best CV Accuracy: {random_rf.best_score_:.4f}\")\n"
   ]
  },
  {
   "cell_type": "code",
   "execution_count": 10,
   "id": "563cf558",
   "metadata": {},
   "outputs": [
    {
     "name": "stdout",
     "output_type": "stream",
     "text": [
      "\n",
      "=== Logistic Regression Evaluation ===\n",
      "Accuracy: 1.0\n",
      "Precision (macro): 1.0\n",
      "Recall (macro): 1.0\n",
      "F1-score (macro): 1.0\n"
     ]
    }
   ],
   "source": [
    "# 9. Train Logistic Regression as comparison\n",
    "logreg = LogisticRegression(max_iter=1000, random_state=42)\n",
    "logreg.fit(X_train_scaled, y_train)\n",
    "y_log = logreg.predict(X_test_scaled)\n",
    "\n",
    "print(\"\\n=== Logistic Regression Evaluation ===\")\n",
    "print(\"Accuracy:\", accuracy_score(y_test, y_log))\n",
    "print(\"Precision (macro):\", precision_score(y_test, y_log, average='macro'))\n",
    "print(\"Recall (macro):\", recall_score(y_test, y_log, average='macro'))\n",
    "print(\"F1-score (macro):\", f1_score(y_test, y_log, average='macro'))\n"
   ]
  },
  {
   "cell_type": "code",
   "execution_count": 11,
   "id": "58c20381",
   "metadata": {},
   "outputs": [
    {
     "name": "stdout",
     "output_type": "stream",
     "text": [
      "\n",
      "=== Final Model Selection Summary ===\n",
      "SVM (GridSearchCV tuned) CV Accuracy: 0.978871158392435\n",
      "Random Forest (RandomizedSearchCV tuned) CV Accuracy: 0.9858156028368793\n",
      "Logistic Regression Test Accuracy: 1.0\n"
     ]
    }
   ],
   "source": [
    "# 10. Final Model Selection Summary\n",
    "\n",
    "print(\"\\n=== Final Model Selection Summary ===\")\n",
    "print(\"SVM (GridSearchCV tuned) CV Accuracy:\", grid.best_score_)\n",
    "print(\"Random Forest (RandomizedSearchCV tuned) CV Accuracy:\", random_rf.best_score_)\n",
    "print(\"Logistic Regression Test Accuracy:\", accuracy_score(y_test, y_log))"
   ]
  },
  {
   "cell_type": "code",
   "execution_count": null,
   "id": "1d5c39fc",
   "metadata": {},
   "outputs": [],
   "source": []
  }
 ],
 "metadata": {
  "kernelspec": {
   "display_name": "Python 3 (ipykernel)",
   "language": "python",
   "name": "python3"
  },
  "language_info": {
   "codemirror_mode": {
    "name": "ipython",
    "version": 3
   },
   "file_extension": ".py",
   "mimetype": "text/x-python",
   "name": "python",
   "nbconvert_exporter": "python",
   "pygments_lexer": "ipython3",
   "version": "3.11.7"
  }
 },
 "nbformat": 4,
 "nbformat_minor": 5
}
