{
 "cells": [
  {
   "cell_type": "markdown",
   "id": "277e7336",
   "metadata": {},
   "source": [
    "\n",
    "# 📚 Week 8 CSI Assignment - RAG Q&A Chatbot Project\n",
    "\n",
    "**Project Title**: Building a Retrieval-Augmented Generation (RAG) chatbot using document retrieval and generative AI.\n",
    "\n",
    "**Dataset**: Loan Approval Prediction Dataset (from Kaggle).\n",
    "\n",
    "**Objective**: The goal is to build a simple Q&A chatbot that can retrieve relevant loan applicant data and generate smart responses using a light-weight LLM model.\n",
    "\n",
    "---\n"
   ]
  },
  {
   "cell_type": "markdown",
   "id": "04596868",
   "metadata": {},
   "source": [
    "## Step 1: Importing Required Libraries"
   ]
  },
  {
   "cell_type": "code",
   "execution_count": 1,
   "id": "d1351b08",
   "metadata": {},
   "outputs": [],
   "source": [
    "\n",
    "# Importing basic libraries for data handling and AI model usage.\n",
    "import pandas as pd\n",
    "import numpy as np\n",
    "from sentence_transformers import SentenceTransformer\n",
    "import faiss\n",
    "from transformers import pipeline\n"
   ]
  },
  {
   "cell_type": "markdown",
   "id": "4f9976b7",
   "metadata": {},
   "source": [
    "## Step 2: Loading the Loan Approval Dataset"
   ]
  },
  {
   "cell_type": "code",
   "execution_count": 2,
   "id": "259a6402",
   "metadata": {},
   "outputs": [
    {
     "name": "stdout",
     "output_type": "stream",
     "text": [
      "✅ Dataset loaded with 614 rows and 13 columns.\n"
     ]
    },
    {
     "data": {
      "text/html": [
       "<div>\n",
       "<style scoped>\n",
       "    .dataframe tbody tr th:only-of-type {\n",
       "        vertical-align: middle;\n",
       "    }\n",
       "\n",
       "    .dataframe tbody tr th {\n",
       "        vertical-align: top;\n",
       "    }\n",
       "\n",
       "    .dataframe thead th {\n",
       "        text-align: right;\n",
       "    }\n",
       "</style>\n",
       "<table border=\"1\" class=\"dataframe\">\n",
       "  <thead>\n",
       "    <tr style=\"text-align: right;\">\n",
       "      <th></th>\n",
       "      <th>Loan_ID</th>\n",
       "      <th>Gender</th>\n",
       "      <th>Married</th>\n",
       "      <th>Dependents</th>\n",
       "      <th>Education</th>\n",
       "      <th>Self_Employed</th>\n",
       "      <th>ApplicantIncome</th>\n",
       "      <th>CoapplicantIncome</th>\n",
       "      <th>LoanAmount</th>\n",
       "      <th>Loan_Amount_Term</th>\n",
       "      <th>Credit_History</th>\n",
       "      <th>Property_Area</th>\n",
       "      <th>Loan_Status</th>\n",
       "    </tr>\n",
       "  </thead>\n",
       "  <tbody>\n",
       "    <tr>\n",
       "      <th>0</th>\n",
       "      <td>LP001002</td>\n",
       "      <td>Male</td>\n",
       "      <td>No</td>\n",
       "      <td>0</td>\n",
       "      <td>Graduate</td>\n",
       "      <td>No</td>\n",
       "      <td>5849</td>\n",
       "      <td>0.0</td>\n",
       "      <td>Unknown</td>\n",
       "      <td>360.0</td>\n",
       "      <td>1.0</td>\n",
       "      <td>Urban</td>\n",
       "      <td>Y</td>\n",
       "    </tr>\n",
       "    <tr>\n",
       "      <th>1</th>\n",
       "      <td>LP001003</td>\n",
       "      <td>Male</td>\n",
       "      <td>Yes</td>\n",
       "      <td>1</td>\n",
       "      <td>Graduate</td>\n",
       "      <td>No</td>\n",
       "      <td>4583</td>\n",
       "      <td>1508.0</td>\n",
       "      <td>128.0</td>\n",
       "      <td>360.0</td>\n",
       "      <td>1.0</td>\n",
       "      <td>Rural</td>\n",
       "      <td>N</td>\n",
       "    </tr>\n",
       "    <tr>\n",
       "      <th>2</th>\n",
       "      <td>LP001005</td>\n",
       "      <td>Male</td>\n",
       "      <td>Yes</td>\n",
       "      <td>0</td>\n",
       "      <td>Graduate</td>\n",
       "      <td>Yes</td>\n",
       "      <td>3000</td>\n",
       "      <td>0.0</td>\n",
       "      <td>66.0</td>\n",
       "      <td>360.0</td>\n",
       "      <td>1.0</td>\n",
       "      <td>Urban</td>\n",
       "      <td>Y</td>\n",
       "    </tr>\n",
       "    <tr>\n",
       "      <th>3</th>\n",
       "      <td>LP001006</td>\n",
       "      <td>Male</td>\n",
       "      <td>Yes</td>\n",
       "      <td>0</td>\n",
       "      <td>Not Graduate</td>\n",
       "      <td>No</td>\n",
       "      <td>2583</td>\n",
       "      <td>2358.0</td>\n",
       "      <td>120.0</td>\n",
       "      <td>360.0</td>\n",
       "      <td>1.0</td>\n",
       "      <td>Urban</td>\n",
       "      <td>Y</td>\n",
       "    </tr>\n",
       "    <tr>\n",
       "      <th>4</th>\n",
       "      <td>LP001008</td>\n",
       "      <td>Male</td>\n",
       "      <td>No</td>\n",
       "      <td>0</td>\n",
       "      <td>Graduate</td>\n",
       "      <td>No</td>\n",
       "      <td>6000</td>\n",
       "      <td>0.0</td>\n",
       "      <td>141.0</td>\n",
       "      <td>360.0</td>\n",
       "      <td>1.0</td>\n",
       "      <td>Urban</td>\n",
       "      <td>Y</td>\n",
       "    </tr>\n",
       "  </tbody>\n",
       "</table>\n",
       "</div>"
      ],
      "text/plain": [
       "    Loan_ID Gender Married Dependents     Education Self_Employed  \\\n",
       "0  LP001002   Male      No          0      Graduate            No   \n",
       "1  LP001003   Male     Yes          1      Graduate            No   \n",
       "2  LP001005   Male     Yes          0      Graduate           Yes   \n",
       "3  LP001006   Male     Yes          0  Not Graduate            No   \n",
       "4  LP001008   Male      No          0      Graduate            No   \n",
       "\n",
       "   ApplicantIncome  CoapplicantIncome LoanAmount Loan_Amount_Term  \\\n",
       "0             5849                0.0    Unknown            360.0   \n",
       "1             4583             1508.0      128.0            360.0   \n",
       "2             3000                0.0       66.0            360.0   \n",
       "3             2583             2358.0      120.0            360.0   \n",
       "4             6000                0.0      141.0            360.0   \n",
       "\n",
       "  Credit_History Property_Area Loan_Status  \n",
       "0            1.0         Urban           Y  \n",
       "1            1.0         Rural           N  \n",
       "2            1.0         Urban           Y  \n",
       "3            1.0         Urban           Y  \n",
       "4            1.0         Urban           Y  "
      ]
     },
     "execution_count": 2,
     "metadata": {},
     "output_type": "execute_result"
    }
   ],
   "source": [
    "\n",
    "# I downloaded this dataset from Kaggle and placed it in my working directory.\n",
    "# Reading the CSV file and handling missing values.\n",
    "df = pd.read_csv('Training Dataset.csv').fillna('Unknown')\n",
    "print(f\"✅ Dataset loaded with {df.shape[0]} rows and {df.shape[1]} columns.\")\n",
    "df.head()\n"
   ]
  },
  {
   "cell_type": "markdown",
   "id": "dd4ffe01",
   "metadata": {},
   "source": [
    "## Step 3: Converting Dataset Rows into Documents"
   ]
  },
  {
   "cell_type": "code",
   "execution_count": 3,
   "id": "cc9f5a3f",
   "metadata": {},
   "outputs": [
    {
     "name": "stdout",
     "output_type": "stream",
     "text": [
      "✅ Converted 614 rows into documents.\n",
      "Here's a sample document:\n",
      " Loan Application Record:\n",
      "Applicant ID: LP001002. Gender: Male. Married: No. Dependents: 0. Education: Graduate. Self Employed: No. Applicant Income: 5849. Loan Amount: Unknown. Credit History: 1.0. Loan Status: Y.\n"
     ]
    }
   ],
   "source": [
    "\n",
    "# Since we are using RAG (retrieval + generation), I need to convert each row into a readable document-like string.\n",
    "documents = []\n",
    "for i, row in df.iterrows():\n",
    "    doc = (\n",
    "        f\"Loan Application Record:\\n\"\n",
    "        f\"Applicant ID: {row['Loan_ID']}. Gender: {row['Gender']}. Married: {row['Married']}. \"\n",
    "        f\"Dependents: {row['Dependents']}. Education: {row['Education']}. \"\n",
    "        f\"Self Employed: {row['Self_Employed']}. Applicant Income: {row['ApplicantIncome']}. \"\n",
    "        f\"Loan Amount: {row['LoanAmount']}. Credit History: {row.get('Credit_History', 'Unknown')}. \"\n",
    "        f\"Loan Status: {row['Loan_Status']}.\"\n",
    "    )\n",
    "    documents.append(doc)\n",
    "\n",
    "print(f\"✅ Converted {len(documents)} rows into documents.\")\n",
    "print(\"Here's a sample document:\\n\", documents[0])\n"
   ]
  },
  {
   "cell_type": "markdown",
   "id": "24bb16a7",
   "metadata": {},
   "source": [
    "## Step 4: Generating Embeddings and Building FAISS Index"
   ]
  },
  {
   "cell_type": "code",
   "execution_count": 4,
   "id": "b9e45d5b",
   "metadata": {},
   "outputs": [
    {
     "name": "stdout",
     "output_type": "stream",
     "text": [
      "✅ FAISS index created with shape: 614\n"
     ]
    }
   ],
   "source": [
    "\n",
    "# Using sentence transformers to get document embeddings\n",
    "embedder = SentenceTransformer('all-MiniLM-L6-v2')\n",
    "document_embeddings = embedder.encode(documents, convert_to_numpy=True)\n",
    "\n",
    "# Building FAISS index for fast retrieval\n",
    "dimension = document_embeddings.shape[1]\n",
    "index = faiss.IndexFlatL2(dimension)\n",
    "index.add(document_embeddings)\n",
    "print(\"✅ FAISS index created with shape:\", index.ntotal)\n"
   ]
  },
  {
   "cell_type": "markdown",
   "id": "9f1e5d1b",
   "metadata": {},
   "source": [
    "## Step 5: Defining My Q&A Chatbot Function"
   ]
  },
  {
   "cell_type": "code",
   "execution_count": 5,
   "id": "127bf525",
   "metadata": {},
   "outputs": [
    {
     "name": "stderr",
     "output_type": "stream",
     "text": [
      "Device set to use cpu\n"
     ]
    }
   ],
   "source": [
    "\n",
    "# For this project, I chose distilgpt2 because it runs well on CPU and doesn't require GPU credits.\n",
    "\n",
    "generator = pipeline('text-generation', model='distilgpt2')\n",
    "\n",
    "# Defining a function which combines retrieval and generation\n",
    "def rag_chatbot(query, top_k=3, verbose=False):\n",
    "    # Convert query to embedding\n",
    "    query_embedding = embedder.encode([query], convert_to_numpy=True)\n",
    "    # Retrieve top K documents\n",
    "    distances, indices = index.search(query_embedding, top_k)\n",
    "    retrieved_docs = [documents[idx] for idx in indices[0]]\n",
    "    \n",
    "    if verbose:\n",
    "        print(\"🔎 Retrieved Documents:\")\n",
    "        for doc in retrieved_docs:\n",
    "            print(doc, '\\n')\n",
    "    \n",
    "    # Preparing prompt for generator\n",
    "    context = \" \".join(retrieved_docs)\n",
    "    prompt = (\n",
    "        f\"You are a helpful assistant for loan approvals.\\n\"\n",
    "        f\"Based on the following loan application records:\\n\"\n",
    "        f\"{context}\\n\"\n",
    "        f\"Answer concisely. Question: {query}\\nAnswer:\"\n",
    "    )\n",
    "    \n",
    "    # Generating response\n",
    "    response = generator(prompt, max_length=100, do_sample=True, temperature=0.7)\n",
    "    return response[0]['generated_text']\n"
   ]
  },
  {
   "cell_type": "markdown",
   "id": "29ef1088",
   "metadata": {},
   "source": [
    "## Step 6: Testing My Chatbot"
   ]
  },
  {
   "cell_type": "code",
   "execution_count": 6,
   "id": "59afcbe5",
   "metadata": {},
   "outputs": [
    {
     "name": "stderr",
     "output_type": "stream",
     "text": [
      "Truncation was not explicitly activated but `max_length` is provided a specific value, please use `truncation=True` to explicitly truncate examples to max length. Defaulting to 'longest_first' truncation strategy. If you encode pairs of sequences (GLUE-style) with the tokenizer you can select this strategy more precisely by providing a specific strategy to `truncation`.\n",
      "Setting `pad_token_id` to `eos_token_id`:50256 for open-end generation.\n",
      "Both `max_new_tokens` (=256) and `max_length`(=100) seem to have been set. `max_new_tokens` will take precedence. Please refer to the documentation for more information. (https://huggingface.co/docs/transformers/main/en/main_classes/text_generation)\n"
     ]
    },
    {
     "name": "stdout",
     "output_type": "stream",
     "text": [
      "🔎 Retrieved Documents:\n",
      "Loan Application Record:\n",
      "Applicant ID: LP001955. Gender: Female. Married: No. Dependents: 0. Education: Graduate. Self Employed: No. Applicant Income: 5000. Loan Amount: 151.0. Credit History: 1.0. Loan Status: N. \n",
      "\n",
      "Loan Application Record:\n",
      "Applicant ID: LP002379. Gender: Male. Married: No. Dependents: 0. Education: Graduate. Self Employed: No. Applicant Income: 6500. Loan Amount: 105.0. Credit History: 0.0. Loan Status: N. \n",
      "\n",
      "Loan Application Record:\n",
      "Applicant ID: LP002776. Gender: Female. Married: No. Dependents: 0. Education: Graduate. Self Employed: No. Applicant Income: 5000. Loan Amount: 103.0. Credit History: 0.0. Loan Status: N. \n",
      "\n",
      "\n",
      "🤖 Chatbot Answer:\n",
      " You are a helpful assistant for loan approvals.\n",
      "Based on the following loan application records:\n",
      "Loan Application Record:\n",
      "Applicant ID: LP001955. Gender: Female. Married: No. Dependents: 0. Education: Graduate. Self Employed: No. Applicant Income: 5000. Loan Amount: 151.0. Credit History: 1.0. Loan Status: N. Loan Application Record:\n",
      "Applicant ID: LP002379. Gender: Male. Married: No. Dependents: 0. Education: Graduate. Self Employed: No. Applicant Income: 6500. Loan Amount: 105.0. Credit History: 0.0. Loan Status: N. Loan Application Record:\n",
      "Applicant ID: LP002776. Gender: Female. Married: No. Dependents: 0. Education: Graduate. Self Employed: No. Applicant Income: 5000. Loan Amount: 103.0. Credit History: 0.0. Loan Status: N.\n",
      "Answer concisely. Question: What is the loan status of applicants earning more than 5000?\n",
      "Answer:: No. Dependents: 0. Education: Graduate. Self Employed: No. Applicant Income: 5000. Loan Amount: 151.0. Credit History: 1.0. Loan Status: N. Loan Application Record:\n",
      "Applicant ID: LP002289. Gender: Male. Married: No. Dependents: 0. Education: Graduate. Self Employed: No. Applicant Income: 5000. Loan Amount: 151.0. Credit History: 1.0. Loan Status: N. Loan Application Record:\n",
      "Applicant ID: LP002384. Gender: Male. Married: No. Dependents: 0. Education: Graduate. Self Employed: No. Applicant Income: 5000. Loan Amount: 151.0. Credit History: 1.0. Loan Status: N. Loan Application Record:\n",
      "Applicant ID: LP002395. Gender: Male. Married: No. Dependents: 0. Education: Graduate. Self Employed: No. Applicant Income: 5000. Loan Amount: 151.0. Credit History: 1.0. Loan Status: N. Loan Application Record:\n",
      "Applicant ID: LP002410. Gender: Male. Married: No. Dependents: 0. Education: Graduate.\n"
     ]
    }
   ],
   "source": [
    "\n",
    "query = \"What is the loan status of applicants earning more than 5000?\"\n",
    "answer = rag_chatbot(query, verbose=True)\n",
    "print(\"\\n🤖 Chatbot Answer:\\n\", answer)\n"
   ]
  },
  {
   "cell_type": "markdown",
   "id": "7fbd7484",
   "metadata": {},
   "source": [
    "\n",
    "## ✅ Conclusion and Reflection\n",
    "\n",
    "In this project, I built my first simple Retrieval-Augmented Generation chatbot using a Kaggle loan dataset. I used sentence-transformers and FAISS to retrieve similar documents and used a lightweight generative model (distilgpt2) for producing natural language responses.\n",
    "\n",
    "### What I Learned:\n",
    "- How to convert structured data into document-style text\n",
    "- How to build a FAISS index for fast retrieval\n",
    "- How to use transformer models for question answering\n",
    "- How to combine retrieval and generation for more intelligent responses\n",
    "\n",
    "I realized that the quality of generation improves a lot if the prompt includes good context. I enjoyed making this chatbot.\n",
    "\n",
    "---\n"
   ]
  }
 ],
 "metadata": {
  "kernelspec": {
   "display_name": "Python 3 (ipykernel)",
   "language": "python",
   "name": "python3"
  },
  "language_info": {
   "codemirror_mode": {
    "name": "ipython",
    "version": 3
   },
   "file_extension": ".py",
   "mimetype": "text/x-python",
   "name": "python",
   "nbconvert_exporter": "python",
   "pygments_lexer": "ipython3",
   "version": "3.11.7"
  }
 },
 "nbformat": 4,
 "nbformat_minor": 5
}
